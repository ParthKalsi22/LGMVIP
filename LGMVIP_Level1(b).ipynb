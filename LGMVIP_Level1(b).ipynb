{
 "cells": [
  {
   "cell_type": "markdown",
   "metadata": {
    "id": "OSrHKzsnGMG0"
   },
   "source": [
    "\n",
    "## Lets Grow More\n",
    "## Data Science Intern\n",
    "## By:Parth Kalsi\n"
   ]
  },
  {
   "cell_type": "markdown",
   "metadata": {
    "id": "4_2hbg5i6AMq"
   },
   "source": [
    "### Stock Market Prediction And Forecasting Using Stacked LSTM"
   ]
  },
  {
   "cell_type": "markdown",
   "metadata": {
    "id": "X5TI1u2t-t35"
   },
   "source": [
    "### Importing the libraries\n"
   ]
  },
  {
   "cell_type": "code",
   "execution_count": 1,
   "metadata": {
    "id": "yOhzVnTXzUdf"
   },
   "outputs": [],
   "source": [
    "import numpy as np\n",
    "import pandas as pd\n",
    "import matplotlib.pyplot as plt"
   ]
  },
  {
   "cell_type": "markdown",
   "metadata": {
    "id": "kLPKRDTvHuPs"
   },
   "source": [
    "### Reading the  Dataset"
   ]
  },
  {
   "cell_type": "code",
   "execution_count": 2,
   "metadata": {
    "colab": {
     "base_uri": "https://localhost:8080/",
     "height": 206
    },
    "id": "9VuFH1oozWLz",
    "outputId": "f2d9b339-f248-4fdc-a281-5718b522d70d"
   },
   "outputs": [
    {
     "data": {
      "text/html": [
       "<div>\n",
       "<style scoped>\n",
       "    .dataframe tbody tr th:only-of-type {\n",
       "        vertical-align: middle;\n",
       "    }\n",
       "\n",
       "    .dataframe tbody tr th {\n",
       "        vertical-align: top;\n",
       "    }\n",
       "\n",
       "    .dataframe thead th {\n",
       "        text-align: right;\n",
       "    }\n",
       "</style>\n",
       "<table border=\"1\" class=\"dataframe\">\n",
       "  <thead>\n",
       "    <tr style=\"text-align: right;\">\n",
       "      <th></th>\n",
       "      <th>Date</th>\n",
       "      <th>Open</th>\n",
       "      <th>High</th>\n",
       "      <th>Low</th>\n",
       "      <th>Last</th>\n",
       "      <th>Close</th>\n",
       "      <th>Total Trade Quantity</th>\n",
       "      <th>Turnover (Lacs)</th>\n",
       "    </tr>\n",
       "  </thead>\n",
       "  <tbody>\n",
       "    <tr>\n",
       "      <th>0</th>\n",
       "      <td>2018-09-28</td>\n",
       "      <td>234.05</td>\n",
       "      <td>235.95</td>\n",
       "      <td>230.20</td>\n",
       "      <td>233.50</td>\n",
       "      <td>233.75</td>\n",
       "      <td>3069914</td>\n",
       "      <td>7162.35</td>\n",
       "    </tr>\n",
       "    <tr>\n",
       "      <th>1</th>\n",
       "      <td>2018-09-27</td>\n",
       "      <td>234.55</td>\n",
       "      <td>236.80</td>\n",
       "      <td>231.10</td>\n",
       "      <td>233.80</td>\n",
       "      <td>233.25</td>\n",
       "      <td>5082859</td>\n",
       "      <td>11859.95</td>\n",
       "    </tr>\n",
       "    <tr>\n",
       "      <th>2</th>\n",
       "      <td>2018-09-26</td>\n",
       "      <td>240.00</td>\n",
       "      <td>240.00</td>\n",
       "      <td>232.50</td>\n",
       "      <td>235.00</td>\n",
       "      <td>234.25</td>\n",
       "      <td>2240909</td>\n",
       "      <td>5248.60</td>\n",
       "    </tr>\n",
       "    <tr>\n",
       "      <th>3</th>\n",
       "      <td>2018-09-25</td>\n",
       "      <td>233.30</td>\n",
       "      <td>236.75</td>\n",
       "      <td>232.00</td>\n",
       "      <td>236.25</td>\n",
       "      <td>236.10</td>\n",
       "      <td>2349368</td>\n",
       "      <td>5503.90</td>\n",
       "    </tr>\n",
       "    <tr>\n",
       "      <th>4</th>\n",
       "      <td>2018-09-24</td>\n",
       "      <td>233.55</td>\n",
       "      <td>239.20</td>\n",
       "      <td>230.75</td>\n",
       "      <td>234.00</td>\n",
       "      <td>233.30</td>\n",
       "      <td>3423509</td>\n",
       "      <td>7999.55</td>\n",
       "    </tr>\n",
       "  </tbody>\n",
       "</table>\n",
       "</div>"
      ],
      "text/plain": [
       "         Date    Open    High  ...   Close  Total Trade Quantity  Turnover (Lacs)\n",
       "0  2018-09-28  234.05  235.95  ...  233.75               3069914          7162.35\n",
       "1  2018-09-27  234.55  236.80  ...  233.25               5082859         11859.95\n",
       "2  2018-09-26  240.00  240.00  ...  234.25               2240909          5248.60\n",
       "3  2018-09-25  233.30  236.75  ...  236.10               2349368          5503.90\n",
       "4  2018-09-24  233.55  239.20  ...  233.30               3423509          7999.55\n",
       "\n",
       "[5 rows x 8 columns]"
      ]
     },
     "execution_count": 2,
     "metadata": {},
     "output_type": "execute_result"
    }
   ],
   "source": [
    "data=pd.read_csv(\"https://raw.githubusercontent.com/mwitiderrick/stockprice/master/NSE-TATAGLOBAL.csv\")\n",
    "data.head()"
   ]
  },
  {
   "cell_type": "code",
   "execution_count": 3,
   "metadata": {
    "colab": {
     "base_uri": "https://localhost:8080/"
    },
    "id": "CrN5jisZzmSO",
    "outputId": "34b7db8a-58ed-41a5-a719-b9ee54fbd4a1"
   },
   "outputs": [
    {
     "name": "stdout",
     "output_type": "stream",
     "text": [
      "<class 'pandas.core.frame.DataFrame'>\n",
      "RangeIndex: 2035 entries, 0 to 2034\n",
      "Data columns (total 8 columns):\n",
      " #   Column                Non-Null Count  Dtype  \n",
      "---  ------                --------------  -----  \n",
      " 0   Date                  2035 non-null   object \n",
      " 1   Open                  2035 non-null   float64\n",
      " 2   High                  2035 non-null   float64\n",
      " 3   Low                   2035 non-null   float64\n",
      " 4   Last                  2035 non-null   float64\n",
      " 5   Close                 2035 non-null   float64\n",
      " 6   Total Trade Quantity  2035 non-null   int64  \n",
      " 7   Turnover (Lacs)       2035 non-null   float64\n",
      "dtypes: float64(6), int64(1), object(1)\n",
      "memory usage: 127.3+ KB\n"
     ]
    }
   ],
   "source": [
    "data.info()"
   ]
  },
  {
   "cell_type": "markdown",
   "metadata": {
    "id": "nCnkWlclH4f0"
   },
   "source": [
    "### Conclusion:No null values in this dataset"
   ]
  },
  {
   "cell_type": "code",
   "execution_count": 4,
   "metadata": {
    "colab": {
     "base_uri": "https://localhost:8080/",
     "height": 299
    },
    "id": "QVAnpOL-z2Kr",
    "outputId": "eb0bcc57-f41d-4d37-efe3-61cc6e1d74f1"
   },
   "outputs": [
    {
     "data": {
      "text/plain": [
       "<matplotlib.axes._subplots.AxesSubplot at 0x7f83b4816ad0>"
      ]
     },
     "execution_count": 4,
     "metadata": {},
     "output_type": "execute_result"
    },
    {
     "data": {
      "image/png": "[encoded data removed]",
      "text/plain": [
       "<Figure size 432x288 with 1 Axes>"
      ]
     },
     "metadata": {},
     "output_type": "display_data"
    }
   ],
   "source": [
    "import seaborn as sns\n",
    "from matplotlib import style\n",
    "style.use(\"ggplot\")\n",
    "sns.scatterplot(x=\"Total Trade Quantity\" , y=\"Turnover (Lacs)\", data=data,color=\"cyan\")"
   ]
  },
  {
   "cell_type": "markdown",
   "metadata": {
    "id": "_9OQIX0JIXLU"
   },
   "source": [
    "### Splitting the dataset into the Training set and Test set"
   ]
  },
  {
   "cell_type": "code",
   "execution_count": 5,
   "metadata": {
    "colab": {
     "base_uri": "https://localhost:8080/"
    },
    "id": "umoAleswz8HC",
    "outputId": "c972ecfb-c44e-4c25-f4fb-1233dc3dcdcd"
   },
   "outputs": [
    {
     "data": {
      "text/plain": [
       "array([[234.05],\n",
       "       [234.55],\n",
       "       [240.  ],\n",
       "       ...,\n",
       "       [121.8 ],\n",
       "       [120.3 ],\n",
       "       [122.1 ]])"
      ]
     },
     "execution_count": 5,
     "metadata": {},
     "output_type": "execute_result"
    }
   ],
   "source": [
    "train=data.iloc[:, 1:2].values\n",
    "train"
   ]
  },
  {
   "cell_type": "markdown",
   "metadata": {
    "id": "_I1i9DOfIg92"
   },
   "source": [
    "### Feature Scaling"
   ]
  },
  {
   "cell_type": "code",
   "execution_count": 6,
   "metadata": {
    "colab": {
     "base_uri": "https://localhost:8080/"
    },
    "id": "_V4CWG170pjC",
    "outputId": "23ebeb67-348b-4303-bec9-6ec609d47783"
   },
   "outputs": [
    {
     "data": {
      "text/plain": [
       "array([[0.6202352 ],\n",
       "       [0.62226277],\n",
       "       [0.64436334],\n",
       "       ...,\n",
       "       [0.16504461],\n",
       "       [0.15896188],\n",
       "       [0.16626115]])"
      ]
     },
     "execution_count": 6,
     "metadata": {},
     "output_type": "execute_result"
    }
   ],
   "source": [
    "from sklearn.preprocessing import MinMaxScaler as msc\n",
    "scaler = msc(feature_range = (0, 1))\n",
    "train_new = scaler.fit_transform(train)\n",
    "train_new"
   ]
  },
  {
   "cell_type": "code",
   "execution_count": 7,
   "metadata": {
    "id": "gPjSfWSa0wCX"
   },
   "outputs": [],
   "source": [
    "X_train = []\n",
    "y_train = []\n",
    "for x in range(60, 2035):\n",
    "    X_train.append(train_new[x-60:x, 0])\n",
    "    y_train.append(train_new[x, 0])\n",
    "X_train, y_train = np.array(X_train), np.array(y_train)"
   ]
  },
  {
   "cell_type": "code",
   "execution_count": 8,
   "metadata": {
    "id": "M1hMxMQ50z-D"
   },
   "outputs": [],
   "source": [
    "X_train = np.reshape(X_train, (X_train.shape[0], X_train.shape[1], 1))"
   ]
  },
  {
   "cell_type": "markdown",
   "metadata": {
    "id": "YVFDzdc0JJR0"
   },
   "source": [
    "### Importing other Libraries"
   ]
  },
  {
   "cell_type": "code",
   "execution_count": 9,
   "metadata": {
    "id": "uihRPccU1P3L"
   },
   "outputs": [],
   "source": [
    "from keras.models import Sequential\n",
    "from keras.layers import Dense\n",
    "from keras.layers import Dropout\n",
    "from keras.layers import LSTM"
   ]
  },
  {
   "cell_type": "code",
   "execution_count": 10,
   "metadata": {
    "id": "BdPFxAYK1J51"
   },
   "outputs": [],
   "source": [
    "#Making RNN sequential layer \n",
    "reg = Sequential()\n",
    "\n",
    "#Adding the first LSTM layerand performing some dropout regularisation\n",
    "reg.add(LSTM(units = 50, return_sequences = True, input_shape = (X_train.shape[1], 1)))\n",
    "reg.add(Dropout(0.2))\n",
    "\n",
    "#Adding the second LSTM layerand performing some dropout\n",
    "reg.add(LSTM(units = 50, return_sequences = True))\n",
    "reg.add(Dropout(0.2))\n",
    "\n",
    "#Adding the third LSTM layer and performing some dropout\n",
    "reg.add(LSTM(units = 50, return_sequences = True))\n",
    "reg.add(Dropout(0.2))\n",
    "\n",
    "#Adding the fourth LSTM layer and performing some dropout\n",
    "reg.add(LSTM(units = 50))\n",
    "reg.add(Dropout(0.2))"
   ]
  },
  {
   "cell_type": "code",
   "execution_count": 11,
   "metadata": {
    "colab": {
     "base_uri": "https://localhost:8080/"
    },
    "id": "NtkILO5R1lsW",
    "outputId": "d4d43924-40db-498e-f70a-c2f7abb774d7"
   },
   "outputs": [
    {
     "name": "stdout",
     "output_type": "stream",
     "text": [
      "Epoch 1/100\n",
      "62/62 [==============================] - 15s 133ms/step - loss: 0.0115\n",
      "Epoch 2/100\n",
      "62/62 [==============================] - 8s 130ms/step - loss: 0.0040\n",
      "Epoch 3/100\n",
      "62/62 [==============================] - 8s 135ms/step - loss: 0.0026\n",
      "Epoch 4/100\n",
      "62/62 [==============================] - 8s 135ms/step - loss: 0.0030\n",
      "Epoch 5/100\n",
      "62/62 [==============================] - 8s 132ms/step - loss: 0.0023\n",
      "Epoch 6/100\n",
      "62/62 [==============================] - 8s 130ms/step - loss: 0.0022\n",
      "Epoch 7/100\n",
      "62/62 [==============================] - 8s 132ms/step - loss: 0.0023\n",
      "Epoch 8/100\n",
      "62/62 [==============================] - 8s 130ms/step - loss: 0.0023\n",
      "Epoch 9/100\n",
      "62/62 [==============================] - 8s 132ms/step - loss: 0.0023\n",
      "Epoch 10/100\n",
      "62/62 [==============================] - 8s 130ms/step - loss: 0.0022\n",
      "Epoch 11/100\n",
      "62/62 [==============================] - 8s 132ms/step - loss: 0.0020\n",
      "Epoch 12/100\n",
      "62/62 [==============================] - 8s 131ms/step - loss: 0.0020\n",
      "Epoch 13/100\n",
      "62/62 [==============================] - 8s 131ms/step - loss: 0.0017\n",
      "Epoch 14/100\n",
      "62/62 [==============================] - 8s 130ms/step - loss: 0.0016\n",
      "Epoch 15/100\n",
      "62/62 [==============================] - 8s 130ms/step - loss: 0.0015\n",
      "Epoch 16/100\n",
      "62/62 [==============================] - 8s 131ms/step - loss: 0.0016\n",
      "Epoch 17/100\n",
      "62/62 [==============================] - 8s 130ms/step - loss: 0.0015\n",
      "Epoch 18/100\n",
      "62/62 [==============================] - 8s 132ms/step - loss: 0.0015\n",
      "Epoch 19/100\n",
      "62/62 [==============================] - 8s 130ms/step - loss: 0.0016\n",
      "Epoch 20/100\n",
      "62/62 [==============================] - 8s 131ms/step - loss: 0.0014\n",
      "Epoch 21/100\n",
      "62/62 [==============================] - 8s 133ms/step - loss: 0.0013\n",
      "Epoch 22/100\n",
      "62/62 [==============================] - 8s 131ms/step - loss: 0.0015\n",
      "Epoch 23/100\n",
      "62/62 [==============================] - 8s 131ms/step - loss: 0.0013\n",
      "Epoch 24/100\n",
      "62/62 [==============================] - 8s 131ms/step - loss: 0.0012\n",
      "Epoch 25/100\n",
      "62/62 [==============================] - 8s 131ms/step - loss: 0.0012\n",
      "Epoch 26/100\n",
      "62/62 [==============================] - 8s 129ms/step - loss: 0.0013\n",
      "Epoch 27/100\n",
      "62/62 [==============================] - 8s 131ms/step - loss: 0.0013\n",
      "Epoch 28/100\n",
      "62/62 [==============================] - 8s 130ms/step - loss: 0.0014\n",
      "Epoch 29/100\n",
      "62/62 [==============================] - 8s 131ms/step - loss: 0.0012\n",
      "Epoch 30/100\n",
      "62/62 [==============================] - 8s 130ms/step - loss: 0.0013\n",
      "Epoch 31/100\n",
      "62/62 [==============================] - 8s 131ms/step - loss: 0.0011\n",
      "Epoch 32/100\n",
      "62/62 [==============================] - 8s 133ms/step - loss: 0.0011\n",
      "Epoch 33/100\n",
      "62/62 [==============================] - 8s 131ms/step - loss: 0.0012\n",
      "Epoch 34/100\n",
      "62/62 [==============================] - 8s 130ms/step - loss: 0.0011\n",
      "Epoch 35/100\n",
      "62/62 [==============================] - 8s 132ms/step - loss: 0.0010\n",
      "Epoch 36/100\n",
      "62/62 [==============================] - 8s 131ms/step - loss: 0.0010\n",
      "Epoch 37/100\n",
      "62/62 [==============================] - 8s 131ms/step - loss: 9.6574e-04\n",
      "Epoch 38/100\n",
      "62/62 [==============================] - 8s 131ms/step - loss: 0.0011\n",
      "Epoch 39/100\n",
      "62/62 [==============================] - 8s 132ms/step - loss: 9.4318e-04\n",
      "Epoch 40/100\n",
      "62/62 [==============================] - 8s 134ms/step - loss: 0.0011\n",
      "Epoch 41/100\n",
      "62/62 [==============================] - 8s 131ms/step - loss: 8.7818e-04\n",
      "Epoch 42/100\n",
      "62/62 [==============================] - 8s 129ms/step - loss: 0.0010\n",
      "Epoch 43/100\n",
      "62/62 [==============================] - 8s 129ms/step - loss: 8.8397e-04\n",
      "Epoch 44/100\n",
      "62/62 [==============================] - 8s 130ms/step - loss: 0.0011\n",
      "Epoch 45/100\n",
      "62/62 [==============================] - 8s 130ms/step - loss: 9.0680e-04\n",
      "Epoch 46/100\n",
      "62/62 [==============================] - 8s 129ms/step - loss: 9.6259e-04\n",
      "Epoch 47/100\n",
      "62/62 [==============================] - 8s 130ms/step - loss: 8.2146e-04\n",
      "Epoch 48/100\n",
      "62/62 [==============================] - 8s 130ms/step - loss: 8.9130e-04\n",
      "Epoch 49/100\n",
      "62/62 [==============================] - 8s 130ms/step - loss: 8.5525e-04\n",
      "Epoch 50/100\n",
      "62/62 [==============================] - 8s 128ms/step - loss: 7.9474e-04\n",
      "Epoch 51/100\n",
      "62/62 [==============================] - 8s 132ms/step - loss: 9.4390e-04\n",
      "Epoch 52/100\n",
      "62/62 [==============================] - 8s 131ms/step - loss: 8.8579e-04\n",
      "Epoch 53/100\n",
      "62/62 [==============================] - 8s 130ms/step - loss: 8.3075e-04\n",
      "Epoch 54/100\n",
      "62/62 [==============================] - 8s 132ms/step - loss: 7.4688e-04\n",
      "Epoch 55/100\n",
      "62/62 [==============================] - 8s 129ms/step - loss: 8.2246e-04\n",
      "Epoch 56/100\n",
      "62/62 [==============================] - 8s 129ms/step - loss: 8.6888e-04\n",
      "Epoch 57/100\n",
      "62/62 [==============================] - 8s 131ms/step - loss: 0.0010\n",
      "Epoch 58/100\n",
      "62/62 [==============================] - 8s 129ms/step - loss: 8.8126e-04\n",
      "Epoch 59/100\n",
      "62/62 [==============================] - 8s 131ms/step - loss: 8.1093e-04\n",
      "Epoch 60/100\n",
      "62/62 [==============================] - 8s 131ms/step - loss: 8.3616e-04\n",
      "Epoch 61/100\n",
      "62/62 [==============================] - 8s 130ms/step - loss: 6.5430e-04\n",
      "Epoch 62/100\n",
      "62/62 [==============================] - 8s 131ms/step - loss: 7.5867e-04\n",
      "Epoch 63/100\n",
      "62/62 [==============================] - 8s 129ms/step - loss: 7.9874e-04\n",
      "Epoch 64/100\n",
      "62/62 [==============================] - 8s 130ms/step - loss: 7.6918e-04\n",
      "Epoch 65/100\n",
      "62/62 [==============================] - 8s 130ms/step - loss: 7.9556e-04\n",
      "Epoch 66/100\n",
      "62/62 [==============================] - 8s 133ms/step - loss: 9.8633e-04\n",
      "Epoch 67/100\n",
      "62/62 [==============================] - 8s 129ms/step - loss: 7.4934e-04\n",
      "Epoch 68/100\n",
      "62/62 [==============================] - 8s 131ms/step - loss: 6.5873e-04\n",
      "Epoch 69/100\n",
      "62/62 [==============================] - 8s 130ms/step - loss: 6.9498e-04\n",
      "Epoch 70/100\n",
      "62/62 [==============================] - 8s 130ms/step - loss: 6.5881e-04\n",
      "Epoch 71/100\n",
      "62/62 [==============================] - 8s 130ms/step - loss: 7.2799e-04\n",
      "Epoch 72/100\n",
      "62/62 [==============================] - 8s 129ms/step - loss: 6.9458e-04\n",
      "Epoch 73/100\n",
      "62/62 [==============================] - 8s 130ms/step - loss: 6.9913e-04\n",
      "Epoch 74/100\n",
      "62/62 [==============================] - 8s 132ms/step - loss: 7.2221e-04\n",
      "Epoch 75/100\n",
      "62/62 [==============================] - 8s 134ms/step - loss: 6.8399e-04\n",
      "Epoch 76/100\n",
      "62/62 [==============================] - 8s 134ms/step - loss: 6.9167e-04\n",
      "Epoch 77/100\n",
      "62/62 [==============================] - 9s 142ms/step - loss: 6.8854e-04\n",
      "Epoch 78/100\n",
      "62/62 [==============================] - 9s 142ms/step - loss: 6.9483e-04\n",
      "Epoch 79/100\n",
      "62/62 [==============================] - 8s 136ms/step - loss: 7.8704e-04\n",
      "Epoch 80/100\n",
      "62/62 [==============================] - 8s 134ms/step - loss: 6.4778e-04\n",
      "Epoch 81/100\n",
      "62/62 [==============================] - 8s 133ms/step - loss: 7.5689e-04\n",
      "Epoch 82/100\n",
      "62/62 [==============================] - 8s 131ms/step - loss: 6.4579e-04\n",
      "Epoch 83/100\n",
      "62/62 [==============================] - 8s 131ms/step - loss: 6.5953e-04\n",
      "Epoch 84/100\n",
      "62/62 [==============================] - 8s 134ms/step - loss: 6.5703e-04\n",
      "Epoch 85/100\n",
      "62/62 [==============================] - 8s 131ms/step - loss: 6.3789e-04\n",
      "Epoch 86/100\n",
      "62/62 [==============================] - 8s 131ms/step - loss: 6.8665e-04\n",
      "Epoch 87/100\n",
      "62/62 [==============================] - 8s 132ms/step - loss: 6.4446e-04\n",
      "Epoch 88/100\n",
      "62/62 [==============================] - 8s 132ms/step - loss: 5.6305e-04\n",
      "Epoch 89/100\n",
      "62/62 [==============================] - 8s 131ms/step - loss: 5.9287e-04\n",
      "Epoch 90/100\n",
      "62/62 [==============================] - 8s 131ms/step - loss: 6.6493e-04\n",
      "Epoch 91/100\n",
      "62/62 [==============================] - 8s 131ms/step - loss: 5.8976e-04\n",
      "Epoch 92/100\n",
      "62/62 [==============================] - 8s 130ms/step - loss: 6.9465e-04\n",
      "Epoch 93/100\n",
      "62/62 [==============================] - 8s 132ms/step - loss: 5.4744e-04\n",
      "Epoch 94/100\n",
      "62/62 [==============================] - 8s 129ms/step - loss: 6.6506e-04\n",
      "Epoch 95/100\n",
      "62/62 [==============================] - 8s 132ms/step - loss: 6.0087e-04\n",
      "Epoch 96/100\n",
      "62/62 [==============================] - 8s 130ms/step - loss: 6.1590e-04\n",
      "Epoch 97/100\n",
      "62/62 [==============================] - 8s 131ms/step - loss: 5.9878e-04\n",
      "Epoch 98/100\n",
      "62/62 [==============================] - 8s 130ms/step - loss: 5.6311e-04\n",
      "Epoch 99/100\n",
      "62/62 [==============================] - 8s 130ms/step - loss: 5.8363e-04\n",
      "Epoch 100/100\n",
      "62/62 [==============================] - 8s 131ms/step - loss: 6.5290e-04\n"
     ]
    },
    {
     "data": {
      "text/plain": [
       "<keras.callbacks.History at 0x7f836d6f7590>"
      ]
     },
     "execution_count": 11,
     "metadata": {},
     "output_type": "execute_result"
    }
   ],
   "source": [
    "#Fitting and training the data\n",
    "reg.add(Dense(units = 1))\n",
    "\n",
    "reg.compile(optimizer = 'adam', loss = 'mean_squared_error')\n",
    "\n",
    "reg.fit(X_train, y_train, epochs = 100, batch_size = 32)"
   ]
  },
  {
   "cell_type": "code",
   "execution_count": 12,
   "metadata": {
    "colab": {
     "base_uri": "https://localhost:8080/"
    },
    "id": "-RCPmgNS1pCF",
    "outputId": "d09f12de-cdf4-4fd2-d1ba-561c1ac75f18"
   },
   "outputs": [
    {
     "data": {
      "text/plain": [
       "array([[220.1 ],\n",
       "       [221.1 ],\n",
       "       [229.45],\n",
       "       [230.3 ],\n",
       "       [237.7 ],\n",
       "       [237.1 ],\n",
       "       [229.7 ],\n",
       "       [226.25],\n",
       "       [215.  ],\n",
       "       [215.  ],\n",
       "       [215.5 ],\n",
       "       [208.  ],\n",
       "       [217.  ],\n",
       "       [223.5 ],\n",
       "       [230.  ],\n",
       "       [234.55]])"
      ]
     },
     "execution_count": 12,
     "metadata": {},
     "output_type": "execute_result"
    }
   ],
   "source": [
    "# Getting the real stock price\n",
    "data_test = pd.read_csv('https://raw.githubusercontent.com/mwitiderrick/stockprice/master/tatatest.csv')\n",
    "rsp = data_test.iloc[:, 1:2].values\n",
    "rsp"
   ]
  },
  {
   "cell_type": "code",
   "execution_count": 13,
   "metadata": {
    "id": "wOmX7BDa19b8"
   },
   "outputs": [],
   "source": [
    "# Getting the predicted stock price\n",
    "data_total = pd.concat((data['Open'], data_test['Open']), axis = 0)\n",
    "input = data_total[len(data_total) - len(data_test) - 60:].values\n",
    "input = input.reshape(-1,1)\n",
    "input = scaler.transform(input)\n",
    "X_test = []\n",
    "\n",
    "for i in range(60, 76):\n",
    "    X_test.append(input[i-60:i, 0])\n",
    "\n",
    "X_test = np.array(X_test)\n",
    "X_test = np.reshape(X_test, (X_test.shape[0], X_test.shape[1], 1))\n",
    "psp = reg.predict(X_test)\n",
    "\n",
    "psp = scaler.inverse_transform(psp)"
   ]
  },
  {
   "cell_type": "code",
   "execution_count": 14,
   "metadata": {
    "colab": {
     "base_uri": "https://localhost:8080/",
     "height": 299
    },
    "id": "WGKfC55h2m3I",
    "outputId": "4b91003f-5d37-4fb6-af78-ae14bce5a364"
   },
   "outputs": [
    {
     "data": {
      "image/png": "[encoded data removed]",
      "text/plain": [
       "<Figure size 432x288 with 1 Axes>"
      ]
     },
     "metadata": {},
     "output_type": "display_data"
    }
   ],
   "source": [
    "#Plotting\n",
    "plt.plot(rsp, color = 'blue',label = 'Real_Tata_Stock_Price')\n",
    "plt.plot(psp, color = 'red',label = 'Predicted_Tata_Stock_Price')\n",
    "plt.title('Tata Stock Price Prediction')\n",
    "plt.xlabel('Time in Years')\n",
    "plt.ylabel('Tata Stock Price')\n",
    "plt.legend()\n",
    "plt.show()"
   ]
  }
 ],
 "metadata": {
  "colab": {
   "name": "Stock_Market_Prediction .ipynb",
   "provenance": []
  },
  "kernelspec": {
   "display_name": "Python 3 (ipykernel)",
   "language": "python",
   "name": "python3"
  },
  "language_info": {
   "codemirror_mode": {
    "name": "ipython",
    "version": 3
   },
   "file_extension": ".py",
   "mimetype": "text/x-python",
   "name": "python",
   "nbconvert_exporter": "python",
   "pygments_lexer": "ipython3",
   "version": "3.9.6"
  }
 },
 "nbformat": 4,
 "nbformat_minor": 1
}
